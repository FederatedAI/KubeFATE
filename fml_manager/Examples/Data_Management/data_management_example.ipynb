{
 "cells": [
  {
   "cell_type": "markdown",
   "metadata": {},
   "source": [
    "# Data Management Example"
   ]
  },
  {
   "cell_type": "markdown",
   "metadata": {},
   "source": [
    "Step 1. Make sure fml_agent has deployed"
   ]
  },
  {
   "cell_type": "code",
   "execution_count": 1,
   "metadata": {},
   "outputs": [
    {
     "name": "stdout",
     "output_type": "stream",
     "text": [
      "v1\n"
     ]
    }
   ],
   "source": [
    "import fml_manager\n",
    "import json, time, requests\n",
    "import os\n"
   ]
  },
  {
   "cell_type": "markdown",
   "metadata": {},
   "source": [
    "Step 2. Upload data to FATE"
   ]
  },
  {
   "cell_type": "code",
   "execution_count": 2,
   "metadata": {},
   "outputs": [
    {
     "name": "stdout",
     "output_type": "stream",
     "text": [
      "Status: running\n",
      "Status: running\n",
      "Status: running\n",
      "Status: success\n",
      "Success\n"
     ]
    }
   ],
   "source": [
    "manager = fml_manager.FMLManager()\n",
    "response = manager.load_data(\"examples/data/breast_homo_guest.csv\", \"homo_breast_guest\", \"homo_breast_guest\", 1, 1, 10, api_version=\"1.4\")\n",
    "output = json.loads(response.content)\n",
    "guest_job_id = output[\"jobId\"]\n",
    "guest_query_condition = {\n",
    "    \"job_id\":guest_job_id\n",
    "}\n",
    "for i in range(500):\n",
    "    time.sleep(1)\n",
    "    guest_status = manager.query_job(guest_query_condition).json()[\"data\"][0][\"f_status\"]\n",
    "    \n",
    "    print(\"Status: %s\" % guest_status)\n",
    "    \n",
    "    if guest_status == \"failed\":\n",
    "        print(\"Failed\")\n",
    "        raise Exception(\"Failed to upload data.\")\n",
    "    if guest_status == \"success\":\n",
    "        print(\"Success\")\n",
    "        break"
   ]
  },
  {
   "cell_type": "markdown",
   "metadata": {},
   "source": [
    "Step 3. Query the data information just uploaded "
   ]
  },
  {
   "cell_type": "code",
   "execution_count": 3,
   "metadata": {},
   "outputs": [
    {
     "name": "stdout",
     "output_type": "stream",
     "text": [
      "Success!\n",
      "{\n",
      "    \"data\": [\n",
      "        {\n",
      "            \"202004231106348342085\": {\n",
      "                \"meta\": {\n",
      "                    \"header\": \"y,x0,x1,x2,x3,x4,x5,x6,x7,x8,x9,x10,x11,x12,x13,x14,x15,x16,x17,x18,x19,x20,x21,x22,x23,x24,x25,x26,x27,x28,x29\",\n",
      "                    \"sid\": \"id\"\n",
      "                },\n",
      "                \"notes\": \"\",\n",
      "                \"upload_info\": {\n",
      "                    \"namespace\": \"homo_breast_guest\",\n",
      "                    \"partition\": 10,\n",
      "                    \"table_name\": \"homo_breast_guest\"\n",
      "                }\n",
      "            }\n",
      "        }\n",
      "    ],\n",
      "    \"retcode\": 0,\n",
      "    \"retmsg\": \"success\"\n",
      "}\n"
     ]
    },
    {
     "data": {
      "text/plain": [
       "<Response [200]>"
      ]
     },
     "execution_count": 3,
     "metadata": {},
     "output_type": "execute_result"
    }
   ],
   "source": [
    "response = manager.query_data(guest_job_id, 1000)\n",
    "manager.prettify(response, True)"
   ]
  },
  {
   "cell_type": "code",
   "execution_count": 4,
   "metadata": {},
   "outputs": [
    {
     "name": "stdout",
     "output_type": "stream",
     "text": [
      "{'retcode': 0, 'retmsg': 'download successfully, please check ./ directory, file name is homo_data_test'}\n",
      "{'retcode': 0, 'retmsg': 'download successfully, please check ./ directory, file name is homo_data_test'}\n"
     ]
    },
    {
     "data": {
      "text/plain": [
       "{'retcode': 0,\n",
       " 'retmsg': 'download successfully, please check ./ directory, file name is homo_data_test'}"
      ]
     },
     "execution_count": 4,
     "metadata": {},
     "output_type": "execute_result"
    }
   ],
   "source": [
    "response = manager.download_data(\"homo_breast_guest\", \"homo_breast_guest\", \"homo_data_test\", 1, \",\")\n",
    "manager.prettify(response, True)\n"
   ]
  }
 ],
 "metadata": {
  "kernelspec": {
   "display_name": "Python 3",
   "language": "python",
   "name": "python3"
  },
  "language_info": {
   "codemirror_mode": {
    "name": "ipython",
    "version": 3
   },
   "file_extension": ".py",
   "mimetype": "text/x-python",
   "name": "python",
   "nbconvert_exporter": "python",
   "pygments_lexer": "ipython3",
   "version": "3.6.5"
  }
 },
 "nbformat": 4,
 "nbformat_minor": 2
}
