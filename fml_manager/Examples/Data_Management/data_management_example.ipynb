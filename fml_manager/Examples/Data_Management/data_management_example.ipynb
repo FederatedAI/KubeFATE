{
 "cells": [
  {
   "cell_type": "markdown",
   "metadata": {},
   "source": [
    "# Data Management Example"
   ]
  },
  {
   "cell_type": "markdown",
   "metadata": {},
   "source": [
    "Step 1. Make sure fml_agent has deployed"
   ]
  },
  {
   "cell_type": "code",
   "execution_count": 9,
   "metadata": {},
   "outputs": [],
   "source": [
    "import fml_manager\n",
    "import json \n",
    "import time \n",
    "import requests\n",
    "import os\n"
   ]
  },
  {
   "cell_type": "markdown",
   "metadata": {},
   "source": [
    "Step 2. Upload data to FATE"
   ]
  },
  {
   "cell_type": "code",
   "execution_count": 10,
   "metadata": {},
   "outputs": [
    {
     "name": "stdout",
     "output_type": "stream",
     "text": [
      "Delete temp file...\n",
      "Status: waiting\n",
      "Status: running\n",
      "Status: running\n",
      "Status: running\n",
      "Status: running\n",
      "Status: running\n",
      "Status: running\n",
      "Status: running\n",
      "Status: running\n",
      "Status: running\n",
      "Status: success\n"
     ]
    },
    {
     "data": {
      "text/plain": [
       "'success'"
      ]
     },
     "execution_count": 10,
     "metadata": {},
     "output_type": "execute_result"
    }
   ],
   "source": [
    "manager = fml_manager.FMLManager()\n",
    "response = manager.load_data(url=\"https://raw.githubusercontent.com/FederatedAI/FATE/master/examples/data/breast_homo_guest.csv\", namespace=\"homo_breast_guest\", table_name=\"homo_breast_guest\", work_mode=1, head=1, partition=10)\n",
    "output = json.loads(response.content)\n",
    "guest_job_id = output[\"jobId\"]\n",
    "guest_query_condition = {\n",
    "    \"job_id\":guest_job_id\n",
    "}\n",
    "\n",
    "manager.query_job_status(guest_query_condition)"
   ]
  },
  {
   "cell_type": "markdown",
   "metadata": {},
   "source": [
    "Step 3. Query the data information just uploaded "
   ]
  },
  {
   "cell_type": "code",
   "execution_count": 11,
   "metadata": {},
   "outputs": [
    {
     "name": "stdout",
     "output_type": "stream",
     "text": [
      "Success!\n",
      "{\n",
      "    \"data\": [\n",
      "        {\n",
      "            \"2020063006384150063337\": {\n",
      "                \"meta\": {\n",
      "                    \"header\": \"y,x0,x1,x2,x3,x4,x5,x6,x7,x8,x9,x10,x11,x12,x13,x14,x15,x16,x17,x18,x19,x20,x21,x22,x23,x24,x25,x26,x27,x28,x29\",\n",
      "                    \"sid\": \"id\"\n",
      "                },\n",
      "                \"notes\": \"\",\n",
      "                \"upload_info\": {\n",
      "                    \"actual_count\": 227,\n",
      "                    \"namespace\": \"homo_breast_guest\",\n",
      "                    \"partition\": 10,\n",
      "                    \"table_name\": \"homo_breast_guest\",\n",
      "                    \"upload_count\": 227\n",
      "                }\n",
      "            }\n",
      "        }\n",
      "    ],\n",
      "    \"retcode\": 0,\n",
      "    \"retmsg\": \"success\"\n",
      "}\n"
     ]
    },
    {
     "data": {
      "text/plain": [
       "<Response [200]>"
      ]
     },
     "execution_count": 11,
     "metadata": {},
     "output_type": "execute_result"
    }
   ],
   "source": [
    "response = manager.query_data(guest_job_id, limit=1000)\n",
    "manager.prettify(response, True)"
   ]
  },
  {
   "cell_type": "code",
   "execution_count": 13,
   "metadata": {},
   "outputs": [
    {
     "name": "stdout",
     "output_type": "stream",
     "text": [
      "Success!\n",
      "{\n",
      "    \"data\": {\n",
      "        \"board_url\": \"http://fateboard:8080/index.html#/dashboard?job_id=2020063006434466105338&role=local&party_id=0\",\n",
      "        \"job_dsl_path\": \"/data/projects/fate/python/jobs/2020063006434466105338/job_dsl.json\",\n",
      "        \"job_runtime_conf_path\": \"/data/projects/fate/python/jobs/2020063006434466105338/job_runtime_conf.json\",\n",
      "        \"logs_directory\": \"/data/projects/fate/python/logs/2020063006434466105338\"\n",
      "    },\n",
      "    \"jobId\": \"2020063006434466105338\",\n",
      "    \"retcode\": 0,\n",
      "    \"retmsg\": \"success\"\n",
      "}\n",
      "Success!\n",
      "{\n",
      "    \"data\": {\n",
      "        \"board_url\": \"http://fateboard:8080/index.html#/dashboard?job_id=2020063006434466105338&role=local&party_id=0\",\n",
      "        \"job_dsl_path\": \"/data/projects/fate/python/jobs/2020063006434466105338/job_dsl.json\",\n",
      "        \"job_runtime_conf_path\": \"/data/projects/fate/python/jobs/2020063006434466105338/job_runtime_conf.json\",\n",
      "        \"logs_directory\": \"/data/projects/fate/python/logs/2020063006434466105338\"\n",
      "    },\n",
      "    \"jobId\": \"2020063006434466105338\",\n",
      "    \"retcode\": 0,\n",
      "    \"retmsg\": \"success\"\n",
      "}\n"
     ]
    },
    {
     "data": {
      "text/plain": [
       "<Response [200]>"
      ]
     },
     "execution_count": 13,
     "metadata": {},
     "output_type": "execute_result"
    }
   ],
   "source": [
    "response = manager.download_data(\"homo_breast_guest\", \"homo_breast_guest\", \"homo_data_test\", work_mode=1, delimitor=\",\")\n",
    "manager.prettify(response, True)\n"
   ]
  },
  {
   "cell_type": "code",
   "execution_count": null,
   "metadata": {},
   "outputs": [],
   "source": []
  }
 ],
 "metadata": {
  "kernelspec": {
   "display_name": "Python 3",
   "language": "python",
   "name": "python3"
  },
  "language_info": {
   "codemirror_mode": {
    "name": "ipython",
    "version": 3
   },
   "file_extension": ".py",
   "mimetype": "text/x-python",
   "name": "python",
   "nbconvert_exporter": "python",
   "pygments_lexer": "ipython3",
   "version": "3.6.9"
  }
 },
 "nbformat": 4,
 "nbformat_minor": 2
}
