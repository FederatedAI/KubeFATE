{
 "cells": [
  {
   "cell_type": "markdown",
   "metadata": {},
   "source": [
    "# Submit Training Job Demo"
   ]
  },
  {
   "cell_type": "code",
   "execution_count": 1,
   "metadata": {},
   "outputs": [],
   "source": [
    "import json\n",
    "import time\n",
    "import os\n",
    "import requests\n",
    "\n",
    "import fml_manager\n"
   ]
  },
  {
   "cell_type": "markdown",
   "metadata": {},
   "source": [
    "The DSL and Config file can be presented in JOSN format. \n",
    "Submitting a job with JSON defined in line, can use ```submit_job(self,dsl, config)```. \n",
    "Note: the parameters are dict, the JSON string have to transform to dict with ```json.loads```"
   ]
  },
  {
   "cell_type": "code",
   "execution_count": 2,
   "metadata": {},
   "outputs": [],
   "source": [
    "dsl='''\n",
    "{\n",
    "    \"components\" : {\n",
    "        \"secure_add_example_0\": {\n",
    "            \"module\": \"SecureAddExample\"\n",
    "        }\n",
    "    }\n",
    "}\n",
    "'''\n",
    "config='''\n",
    "{\n",
    "  \"initiator\": {\n",
    "    \"role\": \"guest\",\n",
    "    \"party_id\": 9999\n",
    "  },\n",
    "  \"job_parameters\": {\n",
    "    \"work_mode\": 1\n",
    "  },\n",
    "  \"role\": {\n",
    "    \"guest\": [\n",
    "      9999\n",
    "    ],\n",
    "    \"host\": [\n",
    "      9999\n",
    "    ]\n",
    "  },\n",
    "  \"role_parameters\": {\n",
    "    \"guest\": {\n",
    "      \"secure_add_example_0\": {\n",
    "        \"seed\": [\n",
    "          123\n",
    "        ]\n",
    "      }\n",
    "    },\n",
    "    \"host\": {\n",
    "      \"secure_add_example_0\": {\n",
    "        \"seed\": [\n",
    "          321\n",
    "        ]\n",
    "      }\n",
    "    }\n",
    "  },\n",
    "  \"algorithm_parameters\": {\n",
    "    \"secure_add_example_0\": {\n",
    "        \"partition\": 10,\n",
    "        \"data_num\": 1000\n",
    "    }\n",
    "  }\n",
    "}\n",
    "'''\n",
    "\n",
    "manager = fml_manager.FMLManager()\n",
    "response = manager.submit_job(json.loads(dsl), json.loads(config))"
   ]
  },
  {
   "cell_type": "code",
   "execution_count": 3,
   "metadata": {},
   "outputs": [
    {
     "name": "stdout",
     "output_type": "stream",
     "text": [
      "Success!\n",
      "{\n",
      "    \"data\": {\n",
      "        \"board_url\": \"http://fateboard:8080/index.html#/dashboard?job_id=2020063007202175889351&role=guest&party_id=9999\",\n",
      "        \"job_dsl_path\": \"/data/projects/fate/python/jobs/2020063007202175889351/job_dsl.json\",\n",
      "        \"job_runtime_conf_path\": \"/data/projects/fate/python/jobs/2020063007202175889351/job_runtime_conf.json\",\n",
      "        \"logs_directory\": \"/data/projects/fate/python/logs/2020063007202175889351\",\n",
      "        \"model_info\": {\n",
      "            \"model_id\": \"guest-9999#host-9999#model\",\n",
      "            \"model_version\": \"2020063007202175889351\"\n",
      "        }\n",
      "    },\n",
      "    \"jobId\": \"2020063007202175889351\",\n",
      "    \"retcode\": 0,\n",
      "    \"retmsg\": \"success\"\n",
      "}\n"
     ]
    }
   ],
   "source": [
    "manager.prettify(response, verbose=True)\n",
    "stdout = json.loads(response.content)\n",
    "jobid = stdout[\"jobId\"]"
   ]
  },
  {
   "cell_type": "markdown",
   "metadata": {},
   "source": [
    "Once the job submitted, we can use ```def query_job(self, query_conditions)``` to query the status. the query_condition is a dict, and can add all job's attributes for querying."
   ]
  },
  {
   "cell_type": "code",
   "execution_count": 4,
   "metadata": {},
   "outputs": [
    {
     "name": "stdout",
     "output_type": "stream",
     "text": [
      "Success!\n",
      "{\n",
      "    \"data\": [\n",
      "        {\n",
      "            \"f_create_time\": 1593501621766,\n",
      "            \"f_current_steps\": null,\n",
      "            \"f_current_tasks\": null,\n",
      "            \"f_description\": \"\",\n",
      "            \"f_dsl\": \"{\\\"components\\\": {\\\"secure_add_example_0\\\": {\\\"module\\\": \\\"SecureAddExample\\\"}}}\",\n",
      "            \"f_elapsed\": null,\n",
      "            \"f_end_time\": null,\n",
      "            \"f_initiator_party_id\": \"9999\",\n",
      "            \"f_is_initiator\": 1,\n",
      "            \"f_job_id\": \"2020063007202175889351\",\n",
      "            \"f_name\": \"\",\n",
      "            \"f_party_id\": \"9999\",\n",
      "            \"f_progress\": 0,\n",
      "            \"f_role\": \"guest\",\n",
      "            \"f_roles\": \"{\\\"guest\\\": [9999], \\\"host\\\": [9999]}\",\n",
      "            \"f_run_ip\": \"192.167.0.6:9380\",\n",
      "            \"f_runtime_conf\": \"{\\\"initiator\\\": {\\\"role\\\": \\\"guest\\\", \\\"party_id\\\": 9999}, \\\"job_parameters\\\": {\\\"work_mode\\\": 1, \\\"model_id\\\": \\\"guest-9999#host-9999#model\\\", \\\"model_version\\\": \\\"2020063007202175889351\\\"}, \\\"role\\\": {\\\"guest\\\": [9999], \\\"host\\\": [9999]}, \\\"role_parameters\\\": {\\\"guest\\\": {\\\"secure_add_example_0\\\": {\\\"seed\\\": [123]}}, \\\"host\\\": {\\\"secure_add_example_0\\\": {\\\"seed\\\": [321]}}}, \\\"algorithm_parameters\\\": {\\\"secure_add_example_0\\\": {\\\"partition\\\": 10, \\\"data_num\\\": 1000}}}\",\n",
      "            \"f_start_time\": 1593501624223,\n",
      "            \"f_status\": \"running\",\n",
      "            \"f_tag\": \"end_waiting\",\n",
      "            \"f_train_runtime_conf\": \"{}\",\n",
      "            \"f_update_time\": 1593501624223,\n",
      "            \"f_work_mode\": 1\n",
      "        },\n",
      "        {\n",
      "            \"f_create_time\": 1593501621766,\n",
      "            \"f_current_steps\": null,\n",
      "            \"f_current_tasks\": null,\n",
      "            \"f_description\": \"\",\n",
      "            \"f_dsl\": \"{\\\"components\\\": {\\\"secure_add_example_0\\\": {\\\"module\\\": \\\"SecureAddExample\\\"}}}\",\n",
      "            \"f_elapsed\": null,\n",
      "            \"f_end_time\": null,\n",
      "            \"f_initiator_party_id\": \"9999\",\n",
      "            \"f_is_initiator\": 0,\n",
      "            \"f_job_id\": \"2020063007202175889351\",\n",
      "            \"f_name\": \"\",\n",
      "            \"f_party_id\": \"9999\",\n",
      "            \"f_progress\": 0,\n",
      "            \"f_role\": \"host\",\n",
      "            \"f_roles\": \"{\\\"guest\\\": [9999], \\\"host\\\": [9999]}\",\n",
      "            \"f_run_ip\": \"192.167.0.6:9380\",\n",
      "            \"f_runtime_conf\": \"{\\\"initiator\\\": {\\\"role\\\": \\\"guest\\\", \\\"party_id\\\": 9999}, \\\"job_parameters\\\": {\\\"work_mode\\\": 1, \\\"model_id\\\": \\\"guest-9999#host-9999#model\\\", \\\"model_version\\\": \\\"2020063007202175889351\\\"}, \\\"role\\\": {\\\"guest\\\": [9999], \\\"host\\\": [9999]}, \\\"role_parameters\\\": {\\\"guest\\\": {\\\"secure_add_example_0\\\": {\\\"seed\\\": [123]}}, \\\"host\\\": {\\\"secure_add_example_0\\\": {\\\"seed\\\": [321]}}}, \\\"algorithm_parameters\\\": {\\\"secure_add_example_0\\\": {\\\"partition\\\": 10, \\\"data_num\\\": 1000}}}\",\n",
      "            \"f_start_time\": 1593501624223,\n",
      "            \"f_status\": \"running\",\n",
      "            \"f_tag\": \"end_waiting\",\n",
      "            \"f_train_runtime_conf\": \"{}\",\n",
      "            \"f_update_time\": 1593501624223,\n",
      "            \"f_work_mode\": 1\n",
      "        }\n",
      "    ],\n",
      "    \"retcode\": 0,\n",
      "    \"retmsg\": \"success\"\n",
      "}\n"
     ]
    },
    {
     "data": {
      "text/plain": [
       "<Response [200]>"
      ]
     },
     "execution_count": 4,
     "metadata": {},
     "output_type": "execute_result"
    }
   ],
   "source": [
    "query_condition = {\n",
    "    \"job_id\":jobid\n",
    "}\n",
    "job_status = manager.query_job(query_condition)\n",
    "manager.prettify(job_status, verbose=True)"
   ]
  },
  {
   "cell_type": "code",
   "execution_count": 5,
   "metadata": {},
   "outputs": [
    {
     "name": "stdout",
     "output_type": "stream",
     "text": [
      "Status: success\n"
     ]
    },
    {
     "data": {
      "text/plain": [
       "'success'"
      ]
     },
     "execution_count": 5,
     "metadata": {},
     "output_type": "execute_result"
    }
   ],
   "source": [
    "manager.query_job_status(query_condition)"
   ]
  },
  {
   "cell_type": "markdown",
   "metadata": {},
   "source": [
    "We can also fetch the logs of job submitted, and save it to working folder."
   ]
  },
  {
   "cell_type": "code",
   "execution_count": 6,
   "metadata": {},
   "outputs": [
    {
     "name": "stdout",
     "output_type": "stream",
     "text": [
      "{'retcode': 0, 'directory': './job_2020063007202175889351_log', 'retmsg': 'download successfully, please check ./job_2020063007202175889351_log directory, file name is job_2020063007202175889351_log.tar.gz'}\n"
     ]
    }
   ],
   "source": [
    "response = manager.fetch_job_log(jobid)"
   ]
  },
  {
   "cell_type": "code",
   "execution_count": null,
   "metadata": {},
   "outputs": [],
   "source": []
  }
 ],
 "metadata": {
  "kernelspec": {
   "display_name": "Python 3",
   "language": "python",
   "name": "python3"
  },
  "language_info": {
   "codemirror_mode": {
    "name": "ipython",
    "version": 3
   },
   "file_extension": ".py",
   "mimetype": "text/x-python",
   "name": "python",
   "nbconvert_exporter": "python",
   "pygments_lexer": "ipython3",
   "version": "3.6.9"
  }
 },
 "nbformat": 4,
 "nbformat_minor": 2
}
